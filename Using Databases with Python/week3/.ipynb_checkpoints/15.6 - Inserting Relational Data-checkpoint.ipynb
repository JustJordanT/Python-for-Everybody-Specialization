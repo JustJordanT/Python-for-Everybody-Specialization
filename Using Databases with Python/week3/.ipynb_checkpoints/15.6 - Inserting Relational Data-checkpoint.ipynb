{
 "cells": [
  {
   "cell_type": "markdown",
   "metadata": {},
   "source": [
    "# 15.6 Interting Relational Data.\n",
    "\n",
    "## Making Tables\n",
    "\n",
    "`CREATE TABLE Genre (\n",
    "    id     INTEGER NOT NULL PRIMARY KEY AUTOINCREMENT UNIQUE,\n",
    "    name   TEXT\n",
    ")`\n",
    "\n",
    "\n",
    "`CREATE TABLE Track (\n",
    "\tid\tINTEGER NOT NULL PRIMARY KEY AUTOINCREMENT UNIQUE,\n",
    "\ttitle TEXT, \n",
    "\talbum_id  INTEGER,\n",
    "\tgenre_id  INTEGER,\n",
    "\tlen INTEGER, rating INTEGER, count INTEGER\n",
    ")`\n",
    "\n",
    "\n",
    "`CREATE TABLE Album (\n",
    "\tid\tINTEGER NOT NULL PRIMARY KEY AUTOINCREMENT UNIQUE,\n",
    "\tartist_id  INTEGER,\n",
    "\ttitle\tTEXT\n",
    ")\n",
    "`\n",
    "\n",
    "### Adding Data into Tables\n",
    "\n",
    "```SQL\n",
    "insert into Artist (name) values ('Led Zepplin')\n",
    "insert into Artist (name) values ('AC/DC')\n",
    "```\n",
    "\n",
    "```SQL\n",
    "insert into Genre (name) values ('Rock')\n",
    "insert into Genre (name) values ('Metal')\n",
    "```\n",
    "\n",
    "Below we will see that we are using the values 1, 2 this relates to the `artist_id` which in our case is `ACDC` and `Led Zepplin`\n",
    "```SQL\n",
    "insert into Album (title, artist_id) values ('Who Made Who', 2)\n",
    "insert into Album (title, artist_id) values ('IV', 1)\n",
    "```\n",
    "\n"
   ]
  },
  {
   "cell_type": "markdown",
   "metadata": {},
   "source": [
    "# 15.7 Reconstructing Data with JOIN\n",
    "http://en.wikipedia.org/wiki/Join_(SQL)\n",
    "\n",
    "## The JOIN operation\n",
    "\n",
    "The JOIN operation links across several tables as part of a select operation\n",
    "You must tell the JOIN how to use the keys that make the connection between the tables using an ON clause\n",
    "\n",
    "```SQL\n",
    "select Album.title, Artist.name from Album join Artist on Album.artist_id = Artist.id\n",
    "```\n",
    "\n",
    "```SQL\n",
    "select Album.title, Album.artist_id, Artist.id,Artist.name \n",
    "from Album join Artist on Album.artist_id = Artist.id\n",
    "```\n",
    "\n",
    "```SQL\n",
    "select Track.title, Artist.name, Album.title, Genre.name from Track join Genre join Album join Artist on Track.genre_id = Genre.id and Track.album_id = Album.id and Album.artist_id = Artist.id\n",
    "```"
   ]
  },
  {
   "cell_type": "code",
   "execution_count": null,
   "metadata": {},
   "outputs": [],
   "source": []
  }
 ],
 "metadata": {
  "kernelspec": {
   "display_name": "Python 3.8.3 64-bit",
   "language": "python",
   "name": "python38364bite8e669ff8bf2452288e1905693a2153b"
  },
  "language_info": {
   "codemirror_mode": {
    "name": "ipython",
    "version": 3
   },
   "file_extension": ".py",
   "mimetype": "text/x-python",
   "name": "python",
   "nbconvert_exporter": "python",
   "pygments_lexer": "ipython3",
   "version": "3.8.3"
  }
 },
 "nbformat": 4,
 "nbformat_minor": 2
}
